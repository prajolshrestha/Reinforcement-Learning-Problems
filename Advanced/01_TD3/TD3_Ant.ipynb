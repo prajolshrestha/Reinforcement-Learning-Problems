{
  "nbformat": 4,
  "nbformat_minor": 0,
  "metadata": {
    "colab": {
      "provenance": [],
      "gpuType": "T4",
      "authorship_tag": "ABX9TyOILLvCplZzOf19Hk8mFUcj"
    },
    "kernelspec": {
      "name": "python3",
      "display_name": "Python 3"
    },
    "language_info": {
      "name": "python"
    },
    "accelerator": "GPU"
  },
  "cells": [
    {
      "cell_type": "code",
      "execution_count": null,
      "metadata": {
        "colab": {
          "base_uri": "https://localhost:8080/"
        },
        "id": "_glDSPjGYXkY",
        "outputId": "22ff78dd-7fa4-461a-c55f-43236e1b2186"
      },
      "outputs": [
        {
          "output_type": "stream",
          "name": "stdout",
          "text": [
            "Collecting pybullet==3.2.4\n",
            "  Downloading pybullet-3.2.4.tar.gz (80.5 MB)\n",
            "\u001b[2K     \u001b[90m━━━━━━━━━━━━━━━━━━━━━━━━━━━━━━━━━━━━━━━━\u001b[0m \u001b[32m80.5/80.5 MB\u001b[0m \u001b[31m8.4 MB/s\u001b[0m eta \u001b[36m0:00:00\u001b[0m\n",
            "\u001b[?25h  Preparing metadata (setup.py) ... \u001b[?25l\u001b[?25hdone\n",
            "Building wheels for collected packages: pybullet\n",
            "  Building wheel for pybullet (setup.py) ... \u001b[?25l\u001b[?25hdone\n",
            "  Created wheel for pybullet: filename=pybullet-3.2.4-cp311-cp311-linux_x86_64.whl size=99854772 sha256=bfd25919a516e9fae9bb0b7ed70758bb445b9c78f4912b0df44f05a6ce78016b\n",
            "  Stored in directory: /root/.cache/pip/wheels/6d/f6/49/7f3f8698a836ce4f918823c333d8d64150c20430af0ca9c305\n",
            "Successfully built pybullet\n",
            "Installing collected packages: pybullet\n",
            "Successfully installed pybullet-3.2.4\n",
            "Collecting gym==0.22.0\n",
            "  Downloading gym-0.22.0.tar.gz (631 kB)\n",
            "\u001b[2K     \u001b[90m━━━━━━━━━━━━━━━━━━━━━━━━━━━━━━━━━━━━━━━━\u001b[0m \u001b[32m631.1/631.1 kB\u001b[0m \u001b[31m34.9 MB/s\u001b[0m eta \u001b[36m0:00:00\u001b[0m\n",
            "\u001b[?25h  Installing build dependencies ... \u001b[?25l\u001b[?25hdone\n",
            "  Getting requirements to build wheel ... \u001b[?25l\u001b[?25hdone\n",
            "  Preparing metadata (pyproject.toml) ... \u001b[?25l\u001b[?25hdone\n",
            "Requirement already satisfied: numpy>=1.18.0 in /usr/local/lib/python3.11/dist-packages (from gym==0.22.0) (1.26.4)\n",
            "Requirement already satisfied: cloudpickle>=1.2.0 in /usr/local/lib/python3.11/dist-packages (from gym==0.22.0) (3.1.1)\n",
            "Requirement already satisfied: gym_notices>=0.0.4 in /usr/local/lib/python3.11/dist-packages (from gym==0.22.0) (0.0.8)\n",
            "Building wheels for collected packages: gym\n",
            "  Building wheel for gym (pyproject.toml) ... \u001b[?25l\u001b[?25hdone\n",
            "  Created wheel for gym: filename=gym-0.22.0-py3-none-any.whl size=708449 sha256=05da86c55222f42fc96c6da412d7bffb843e4fb612a162f250a80ff72f9bdb04\n",
            "  Stored in directory: /root/.cache/pip/wheels/11/60/2b/8b26bcd8a4a0fcfb5b036e5195ffb8cb092ca53de15b2266c9\n",
            "Successfully built gym\n",
            "Installing collected packages: gym\n",
            "  Attempting uninstall: gym\n",
            "    Found existing installation: gym 0.25.2\n",
            "    Uninstalling gym-0.25.2:\n",
            "      Successfully uninstalled gym-0.25.2\n",
            "Successfully installed gym-0.22.0\n"
          ]
        }
      ],
      "source": [
        "!pip install pybullet==3.2.4\n",
        "!pip install gym==0.22.0"
      ]
    },
    {
      "cell_type": "code",
      "source": [
        "import os\n",
        "import time\n",
        "import random\n",
        "import numpy as np\n",
        "import matplotlib.pyplot as plt\n",
        "import pybullet_envs\n",
        "import gym\n",
        "import torch\n",
        "import torch.nn as nn\n",
        "import torch.nn.functional as F\n",
        "from gym import wrappers\n",
        "from torch.autograd import Variable\n",
        "from collections import deque"
      ],
      "metadata": {
        "colab": {
          "base_uri": "https://localhost:8080/"
        },
        "id": "KF9tzpk6c0da",
        "outputId": "316e5985-1bda-44c2-f5b7-197e0a7fa1fa"
      },
      "execution_count": null,
      "outputs": [
        {
          "output_type": "stream",
          "name": "stderr",
          "text": [
            "\n"
          ]
        }
      ]
    },
    {
      "cell_type": "markdown",
      "source": [
        "## Step 1: We initialize the Experience Replay memory\n",
        "\n",
        "\n",
        "\n",
        " It acts as memory storage for past experiences **(state transitions)** that the agent has encountered, allowing it to learn from them efficiently.\n",
        "*   Think of it like a **notebook**:\n",
        "    - The agent writes down its experiences (state transitions) in this notebook.\n",
        "    - Each experience consists of **(state, next_state, action, reward, done)**\n",
        "      - State (s) → What the agent saw.\n",
        "      - Next State (s ′) → What happened after taking an action.\n",
        "      - Action (a) → What the agent did.\n",
        "      - Reward (r) → What it got in return.\n",
        "      - Done (d) → Whether the episode ended.\n",
        "\n",
        "* Why use a Reply buffer?\n",
        "    - It helps **break correlation** between consecutive experiences.\n",
        "    - It allows for more efficient **re-use** of past data.\n",
        "    - It improves training stability by **diversifying learning** across past and recent events."
      ],
      "metadata": {
        "id": "a52hzgqWcpSK"
      }
    },
    {
      "cell_type": "code",
      "source": [
        "class ReplayBuffer():\n",
        "  def __init__(self, max_size=1e6):\n",
        "    self.storage = []\n",
        "    self.max_size = max_size\n",
        "    self.ptr = 0\n",
        "\n",
        "  def add(self, transition):\n",
        "    \"\"\" Circular buffer to add experiences\"\"\"\n",
        "    if len(self.storage) == self.max_size:\n",
        "      self.storage[int(self.ptr)] = transition # Only overwrite when full\n",
        "      self.ptr = (self.ptr + 1) % self.max_size # update ptr\n",
        "    else:\n",
        "      self.storage.append(transition) # Add new elements initially\n",
        "\n",
        "  def sample(self, batch_size):\n",
        "    \"\"\"Sampling a batch of random past experiences\"\"\"\n",
        "    ind = np.random.randint(0, len(self.storage), size=batch_size)\n",
        "    batch_states, batch_next_states, batch_actions, batch_rewards, batch_dones = [], [], [], [], []\n",
        "    for i in ind:\n",
        "      state, next_state, action, reward, done = self.storage[i]\n",
        "      batch_states.append(np.array(state, copy=False))\n",
        "      batch_next_states.append(np.array(next_state, copy=False))\n",
        "      batch_actions.append(np.array(action, copy=False))\n",
        "      batch_rewards.append(np.array(reward, copy=False))\n",
        "      batch_dones.append(np.array(done, copy=False))\n",
        "    return np.array(batch_states), np.array(batch_next_states), np.array(batch_actions), np.array(batch_rewards), np.array(batch_dones)\n"
      ],
      "metadata": {
        "id": "yCMAI7xcdWCX"
      },
      "execution_count": null,
      "outputs": []
    },
    {
      "cell_type": "markdown",
      "source": [
        "## Step 2: We build NN for Actor\n",
        "\n",
        "It maps states to actions in a deterministic manner.\n",
        "\n",
        "```\n",
        "1.   Actor model\n",
        "2.   Target model\n",
        "```\n",
        "\n",
        "\n",
        "*   Think of it as a **decision-maker**:\n",
        "    - The actor receives the** current state** (what it sees) and outputs an **action** (what to do next).\n",
        "    - It learns to choose **optimal actions** by interacting with the environment and maximizing expected rewards.\n",
        "\n",
        "*   Why Scale by max_action?\n",
        "\n",
        "  - In environments like robotics or autonomous control, actions often have a physical limit (e.g., [-2, 2] for torque control).\n",
        "  - The tanh function limits the output between [−1,1], so multiplying by max_action ensures actions stay within the required range.\n",
        "\n",
        "* Summary:\n",
        "  - This Actor network **learns how to map states to actions**.\n",
        "  - It’s **deterministic**, meaning it always outputs the same action for the same state.\n",
        "  - It plays a crucial role in policy-based RL by generating actions to explore and interact with the environment. 🚀\n",
        "\n"
      ],
      "metadata": {
        "id": "c407fquHjmtg"
      }
    },
    {
      "cell_type": "code",
      "source": [
        "class Actor(nn.Module):\n",
        "  \"\"\"It maps states to actions in a deterministic manner\"\"\"\n",
        "  def __init__(self, state_dim, action_dim, max_action):\n",
        "    super().__init__()\n",
        "    self.layer_1 = nn.Linear(state_dim, 400)\n",
        "    self.layer_2 = nn.Linear(400, 400)\n",
        "    self.layer_3 = nn.Linear(400, action_dim)\n",
        "    self.max_action = max_action\n",
        "\n",
        "  def forward(self, x):\n",
        "    x = F.relu(self.layer_1(x))\n",
        "    x = F.relu(self.layer_2(x))\n",
        "     # tanh to keep output in the range [-1, 1] &\n",
        "     # scaled by max_action to match the action required by the env.\n",
        "    x = self.max_action * torch.tanh(self.layer_3(x))\n",
        "    return x\n"
      ],
      "metadata": {
        "id": "5UxulonljhTq"
      },
      "execution_count": null,
      "outputs": []
    },
    {
      "cell_type": "markdown",
      "source": [
        "## Step 3: We build NN for two Critics\n",
        "\n",
        "It evaluates **how good an action is in a given state** by extimating the Q-value.\n",
        "\n",
        "```\n",
        "1.   Critic Model 1\n",
        "2.   Critic Target 1\n",
        "3.   Critic Model 2\n",
        "4.   Critic Target 2\n",
        "```\n",
        "\n",
        "\n",
        "* Think of it as a **judge**:\n",
        "    - The Critic receives a state (s) and an action (a) and predicts a Q-value.\n",
        "    - This Q-value tells us how good or bad the action is in that state based on expected future rewards.\n",
        "    - The policy (Actor) improves by following the actions that get higher Q-values.\n",
        "*   Why two critics?\n",
        "    - This is a key feature of TD3, which **reduces overestimation bias** common in Q-learning.\n",
        "    - Instead of relying on a single Q-value, TD3 takes the minimum Q-value from two critics to improve stability.\n",
        "\n",
        "\n",
        "\n"
      ],
      "metadata": {
        "id": "Av7FD40dngaD"
      }
    },
    {
      "cell_type": "code",
      "source": [
        "class Critic(nn.Module):\n",
        "  def __init__(self, state_dim, action_dim):\n",
        "    super().__init__()\n",
        "    # Define first critic NN\n",
        "    self.layer_1 = nn.Linear(state_dim + action_dim, 400)\n",
        "    self.layer_2 = nn.Linear(400, 300)\n",
        "    self.layer_3 = nn.Linear(300, 1)\n",
        "\n",
        "    # Define second critic NN\n",
        "    self.layer_4 = nn.Linear(state_dim + action_dim, 400)\n",
        "    self.layer_5 = nn.Linear(400, 300)\n",
        "    self.layer_6 = nn.Linear(300, 1)\n",
        "\n",
        "  def forward(self, x, u):\n",
        "    xu = torch.cat([x,u], 1) # Takes both state and action as input. (concatenated)\n",
        "\n",
        "    # Forward prop on the first critic NN\n",
        "    x1 = F.relu(self.layer_1(xu))\n",
        "    x1 = F.relu(self.layer_2(x1))\n",
        "    x1 = self.layer_3(x1)\n",
        "\n",
        "    # Forward prop on the second critic NN\n",
        "    x2 = F.relu(self.layer_4(xu))\n",
        "    x2 = F.relu(self.layer_5(x2))\n",
        "    x2 = self.layer_6(x2)\n",
        "    return x1, x2\n",
        "\n",
        "  def Q1(self, x, u):\n",
        "    \"\"\"Runs only on first critic NN: Used during policy updates (Actor optimization)\"\"\"\n",
        "    xu = torch.cat([x,u], 1)\n",
        "    x1 = F.relu(self.layer_1(xu))\n",
        "    x1 = F.relu(self.layer_2(x1))\n",
        "    x1 = self.layer_3(x1)\n",
        "    return x1\n",
        "\n"
      ],
      "metadata": {
        "id": "83S-PLt-nfuW"
      },
      "execution_count": null,
      "outputs": []
    },
    {
      "cell_type": "markdown",
      "source": [
        "## Step 4 - 15: Training process\n",
        "\n",
        "* Three key features:\n",
        "\n",
        "    - **Twin Critic Networks**: Uses two Q-functions and takes the minimum Q-value.\n",
        "    - **Delayed Policy Updates**: The actor updates less frequently than the critic (every policy_freq steps).\n",
        "    - **Target Policy Smoothing**: Adds noise to target actions to make training more robust.\n",
        "\n",
        "* Step-by-step Breakdown:\n",
        "    - Sample a batch from the replay buffer.\n",
        "    - Compute the next action using the target actor and add clipped Gaussian noise.\n",
        "    - Compute target Q-values by taking the minimum Q-value from the two target critics.\n",
        "    - Compute Bellman target using: Qt = r + (1 - done) * γ * min(Qt1, Qt2)\n",
        "    - Compute critic loss (MSE between predicted and target Q-values).\n",
        "    - Update Critic network by backpropagation.\n",
        "    - Update Actor network every policy_freq steps using gradient ascent on Q1.\n",
        "    - Polyak Averaging for target networks.\n",
        "\n",
        "* Summary of Strengths\n",
        "  - Implements Twin Critics for reducing overestimation.\n",
        " - Uses target policy smoothing to prevent overfitting to Q-value spikes.\n",
        "  - Correctly delays policy updates (every policy_freq steps).\n",
        " - Implements Polyak Averaging for stable training.\n",
        " - Efficient training loop that samples from replay buffer."
      ],
      "metadata": {
        "id": "pMiTn0GtrHGB"
      }
    },
    {
      "cell_type": "code",
      "source": [
        "device = torch.device(\"cuda\" if torch.cuda.is_available() else \"cpu\")\n",
        "\n",
        "# Building the whole training process\n",
        "\n",
        "class TD3():\n",
        "  def __init__(self, state_dim, action_dim, max_action):\n",
        "    \"\"\"Actor-critic network setup\"\"\"\n",
        "    # Actor\n",
        "    self.actor = Actor(state_dim, action_dim, max_action).to(device)\n",
        "    self.actor_target = Actor(state_dim, action_dim, max_action).to(device)\n",
        "    self.actor_target.load_state_dict(self.actor.state_dict())\n",
        "    self.actor_optimizer = torch.optim.Adam(self.actor.parameters())\n",
        "\n",
        "    # Critics\n",
        "    self.critic = Critic(state_dim, action_dim).to(device)\n",
        "    self.critic_target = Critic(state_dim, action_dim).to(device)\n",
        "    self.critic_target.load_state_dict(self.critic.state_dict())\n",
        "    self.critic_optimizer = torch.optim.Adam(self.critic.parameters())\n",
        "    self.max_action = max_action\n",
        "\n",
        "  def select_action(self, state):\n",
        "    \"\"\"state --> Actor ---> action\"\"\"\n",
        "    state = torch.Tensor(state.reshape(1, -1)).to(device)\n",
        "    return self.actor(state).cpu().data.numpy().flatten()\n",
        "\n",
        "  def train(self, replay_buffer, iterations, batch_size=100, discount=0.99, tau=0.005, policy_noise=0.2, noise_clip=0.5, policy_freq=2):\n",
        "    for it in range(iterations):\n",
        "      ## Q-LEARNING PART ######################################################\n",
        "      # Step 4: We sample a batch of transitions (s, s', a, r) from the memory\n",
        "      batch_states, batch_next_states, batch_actions, batch_rewards, batch_dones = replay_buffer.sample(batch_size)\n",
        "      state = torch.Tensor(batch_states).to(device)\n",
        "      next_state = torch.Tensor(batch_next_states).to(device)\n",
        "      action = torch.Tensor(batch_actions).to(device)\n",
        "      reward = torch.Tensor(batch_rewards).to(device)\n",
        "      done = torch.Tensor(batch_dones).to(device)\n",
        "\n",
        "      # Step 5: From the next state s', the Actor target plays the next action a'\n",
        "      next_action = self.actor_target(next_state)\n",
        "\n",
        "      # Step 6: We add Gaussion noise to this next action a' and we clamp it in a range of values supported by the environment\n",
        "      noise = torch.Tensor(batch_actions).data.normal_(0, policy_noise).to(device) # Gaussian noise\n",
        "      noise = noise.clamp(-noise_clip, noise_clip) # clamp noise\n",
        "      next_action = (next_action + noise).clamp(-self.max_action, self.max_action) # clamp action\n",
        "\n",
        "      # Step 7: The two critic targets take each the couple (s', a') as input and return two Q values\n",
        "      target_Q1, target_Q2 = self.critic_target(next_state, next_action)\n",
        "\n",
        "      # Step 8: We keep the minimum of these two Q-values\n",
        "      target_Q = torch.min(target_Q1, target_Q2) # Key feature: it prevents too optimistic estimates of the value of state\n",
        "\n",
        "      # Step 9: We get the final target of the two critic models, which is: Qt = r + γ * min(Qt1, Qt2)\n",
        "      target_Q = reward + ((1 - done) * discount * target_Q).detach() # Bellman target\n",
        "\n",
        "      # Step 10: The two critic models take each the couple (s, a)\n",
        "      current_Q1, current_Q2 = self.critic(state, action)\n",
        "\n",
        "      # Step 11: We compute the loss coming from the two critic models: Critic Loss = MSE_Loss(Q1(s,a), Qt) + MSE_Loss(Q2(s,a), Qt)\n",
        "      critic_loss = F.mse_loss(current_Q1, target_Q) + F.mse_loss(current_Q2, target_Q)\n",
        "\n",
        "      # Step 12: We backpropagate this critic loss and update the parameters of the two critic models with SGD\n",
        "      self.critic_optimizer.zero_grad()\n",
        "      critic_loss.backward()\n",
        "      self.critic_optimizer.step()\n",
        "\n",
        "      ## POLICY-LEARNING PART ###################################################\n",
        "      # Step 13: Once every 2 iterations, we update our Actor model by performing gradient ascent on the output of first critic model\n",
        "      if it % policy_freq == 0:\n",
        "        actor_loss = -self.critic.Q1(state, self.actor(state)).mean() # Gradient ascent\n",
        "        self.actor_optimizer.zero_grad()\n",
        "        actor_loss.backward()\n",
        "        self.actor_optimizer.step()\n",
        "\n",
        "        # Step 14: Still once every two iterations, we update the weights of the Actor target by polyak averaging\n",
        "        for param, target_param in zip(self.actor.parameters(), self.actor_target.parameters()):\n",
        "          target_param.data.copy_(tau * param.data + (1 - tau) * target_param.data) # Polyak averaging\n",
        "\n",
        "        # Step 15: Still once every two iterations, we update the weights of the Critic target by Polyak averaging\n",
        "        for param, target_param in zip(self.critic.parameters(), self.critic_target.parameters()):\n",
        "          target_param.data.copy_(tau * param.data + (1 - tau) * target_param.data)\n",
        "\n",
        "  # Save method to save the trained model\n",
        "  def save(self, filename, directory):\n",
        "    torch.save(self.actor.state_dict(), '%s%s_actor.pth' % (directory, filename))\n",
        "    torch.save(self.critic.state_dict(), '%s%s_critic.pth' % (directory, filename))\n",
        "\n",
        "  # Load method to load a pre-trained model\n",
        "  def load(self, filename, directory):\n",
        "    self.actor.load_state_dict(torch.load('%s%s_actor.pth' % (directory, filename)))\n",
        "    self.critic.load_state_dict(torch.laod('%s%s_critic.pth' % (directory, filename)))\n"
      ],
      "metadata": {
        "id": "sEpACoU1rBv6"
      },
      "execution_count": null,
      "outputs": []
    },
    {
      "cell_type": "markdown",
      "source": [
        "## We make a function that evaluates the policy by calculating its average reward over 10 episodes"
      ],
      "metadata": {
        "id": "hqfYyPo5BIu4"
      }
    },
    {
      "cell_type": "code",
      "source": [
        "def evaluate_policy(policy, eval_episodes=10):\n",
        "  avg_reward = 0.\n",
        "  for _ in range(eval_episodes):\n",
        "    obs = env.reset()\n",
        "    done = False\n",
        "    while not done:\n",
        "      action = policy.select_action(np.array(obs))\n",
        "      obs, reward, done, _ = env.step(action)\n",
        "      avg_reward += reward\n",
        "  avg_reward /= eval_episodes\n",
        "  print (\"---------------------------------------\")\n",
        "  print (\"Average Reward over the Evaluation Step: %f\" % (avg_reward))\n",
        "  print (\"---------------------------------------\")\n",
        "  return avg_reward"
      ],
      "metadata": {
        "id": "H68KsbB5CoTC"
      },
      "execution_count": null,
      "outputs": []
    },
    {
      "cell_type": "markdown",
      "source": [
        "## We set the parameters"
      ],
      "metadata": {
        "id": "IyMlEXU-QBF1"
      }
    },
    {
      "cell_type": "code",
      "source": [
        "env_name = \"AntBulletEnv-v0\"\n",
        "seed = 0\n",
        "start_timesteps = 1e4 # Number of iteration/timesteps before which the model randomly chooses an action, and after which it starts to use the policy network\n",
        "eval_freq = 5e3 # how often the evaluation step is performed (after how many timesteps)\n",
        "max_timesteps = 5e5 # Total number of iterations/timesteps\n",
        "save_models = True # Boolean checker whether or not to save the pretrained model\n",
        "expl_noise = 0.1 # Exploration noise - STD value of exploration Gaussian noise\n",
        "batch_size = 100 # Size of the batch\n",
        "discount = 0.99 # Discount factor gamma, used in the calculation of the toal discounted reward\n",
        "tau = 0.005 # Target network update rate\n",
        "policy_noise = 0.2 # STD of Gaussian noise added to the actions for the exploration purposes\n",
        "noise_clip = 0.5 # Maximum value of the Gaussian noise added to the actions (policy)\n",
        "policy_freq = 2 # Number of iterations to wait before the policy network (Actor model) is updated"
      ],
      "metadata": {
        "id": "NGHGtTXgP_eC"
      },
      "execution_count": null,
      "outputs": []
    },
    {
      "cell_type": "markdown",
      "source": [
        "## We create a filename for the two saved models: the actor and critic models"
      ],
      "metadata": {
        "id": "bdq8WG1pRyB9"
      }
    },
    {
      "cell_type": "code",
      "source": [
        "file_name = \"%s_%s_%s\" % (\"TD3\", env_name, str(seed))\n",
        "print (\"---------------------------------------\")\n",
        "print (\"Settings: %s\" % (file_name))\n",
        "print (\"---------------------------------------\")"
      ],
      "metadata": {
        "colab": {
          "base_uri": "https://localhost:8080/"
        },
        "id": "ZNPM2lgARovy",
        "outputId": "f46feb7e-36a0-4268-ff31-b34f6bb3042b"
      },
      "execution_count": null,
      "outputs": [
        {
          "output_type": "stream",
          "name": "stdout",
          "text": [
            "---------------------------------------\n",
            "Settings: TD3_AntBulletEnv-v0_0\n",
            "---------------------------------------\n"
          ]
        }
      ]
    },
    {
      "cell_type": "markdown",
      "source": [
        "## We create a folder inside which will be saved the trained models"
      ],
      "metadata": {
        "id": "rn8a8qYFSL6O"
      }
    },
    {
      "cell_type": "code",
      "source": [
        "if not os.path.exists(\"./results\"):\n",
        "  os.makedirs(\"./results\")\n",
        "if save_models and not os.path.exists(\"./pytorch_models\"):\n",
        "  os.makedirs(\"./pytorch_models\")"
      ],
      "metadata": {
        "id": "1LwFpDh5R4kN"
      },
      "execution_count": null,
      "outputs": []
    },
    {
      "cell_type": "markdown",
      "source": [
        "## We create PyBullet environment"
      ],
      "metadata": {
        "id": "uQ0OdmkESfW8"
      }
    },
    {
      "cell_type": "code",
      "source": [
        "env = gym.make(env_name)"
      ],
      "metadata": {
        "id": "kMVe1JiSSUpM"
      },
      "execution_count": null,
      "outputs": []
    },
    {
      "cell_type": "markdown",
      "source": [
        "## We set seeds and we get the necessary information on the states and actions in the choosen environment"
      ],
      "metadata": {
        "id": "kjDVuCx9SmHV"
      }
    },
    {
      "cell_type": "code",
      "source": [
        "env.seed(seed)\n",
        "torch.manual_seed(seed)\n",
        "np.random.seed(seed)\n",
        "\n",
        "state_dim = env.observation_space.shape[0]\n",
        "action_dim = env.action_space.shape[0]\n",
        "max_action = float(env.action_space.high[0])\n",
        "\n",
        "print(state_dim, action_dim, max_action)"
      ],
      "metadata": {
        "colab": {
          "base_uri": "https://localhost:8080/"
        },
        "id": "PcZFiw9RSqkc",
        "outputId": "031c2503-17e0-44f6-cf72-0d5adb8aa97e"
      },
      "execution_count": null,
      "outputs": [
        {
          "output_type": "stream",
          "name": "stdout",
          "text": [
            "28 8 1.0\n"
          ]
        }
      ]
    },
    {
      "cell_type": "markdown",
      "source": [
        "## We create the policy network (The actor NN)"
      ],
      "metadata": {
        "id": "hSP3FYOdTNVX"
      }
    },
    {
      "cell_type": "code",
      "source": [
        "policy = TD3(state_dim, action_dim, max_action)"
      ],
      "metadata": {
        "id": "i7ulHCqTSqhg"
      },
      "execution_count": null,
      "outputs": []
    },
    {
      "cell_type": "markdown",
      "source": [
        "## We create the Experience replay memory"
      ],
      "metadata": {
        "id": "ol8MfY16TatO"
      }
    },
    {
      "cell_type": "code",
      "source": [
        "replay_buffer = ReplayBuffer()"
      ],
      "metadata": {
        "id": "li_knsV6TaNI"
      },
      "execution_count": null,
      "outputs": []
    },
    {
      "cell_type": "markdown",
      "source": [
        "## We define a list where all the evaluation results over 10 episodes are stored"
      ],
      "metadata": {
        "id": "qqPIkkRsTjmP"
      }
    },
    {
      "cell_type": "code",
      "source": [
        "evaluations = [evaluate_policy(policy)]"
      ],
      "metadata": {
        "colab": {
          "base_uri": "https://localhost:8080/"
        },
        "id": "s_kn8nb1TjVz",
        "outputId": "0ed94866-3c9f-4fee-effa-24b21fd4d8a6"
      },
      "execution_count": null,
      "outputs": [
        {
          "output_type": "stream",
          "name": "stdout",
          "text": [
            "---------------------------------------\n",
            "Average Reward over the Evaluation Step: 1.286181\n",
            "---------------------------------------\n"
          ]
        }
      ]
    },
    {
      "cell_type": "markdown",
      "source": [
        "## We create a new folder directory in which the final results (videos of the agent) will be populated"
      ],
      "metadata": {
        "id": "rYn0KMeqTus3"
      }
    },
    {
      "cell_type": "code",
      "source": [
        "def mkdir(base, name):\n",
        "  path = os.path.join(base, name)\n",
        "  if not os.path.exists(path):\n",
        "    os.makedirs(path)\n",
        "  return path\n",
        "\n",
        "work_dir = mkdir('exp', 'brs')\n",
        "monitor_dir = mkdir(work_dir, 'monitor')\n",
        "max_episode_steps = env._max_episode_steps\n",
        "save_env_vid = False\n",
        "if save_env_vid:\n",
        "  env = wrappers.Monitor(env, monitor_dir, force = True)\n",
        "  env.reset()"
      ],
      "metadata": {
        "id": "GRJnbmAcTudS"
      },
      "execution_count": null,
      "outputs": []
    },
    {
      "cell_type": "markdown",
      "source": [
        "## We initialize the variables"
      ],
      "metadata": {
        "id": "JTJjuylYUp3L"
      }
    },
    {
      "cell_type": "code",
      "source": [
        "total_timesteps = 0\n",
        "timesteps_since_eval = 0\n",
        "episode_num = 0\n",
        "done = True\n",
        "t0 = time.time()"
      ],
      "metadata": {
        "id": "UThRAW4UUss-"
      },
      "execution_count": null,
      "outputs": []
    },
    {
      "cell_type": "markdown",
      "source": [
        "## Training"
      ],
      "metadata": {
        "id": "1XwzoRSXU3gv"
      }
    },
    {
      "cell_type": "code",
      "source": [
        "# We start the main loop over 500000 timesteps\n",
        "while total_timesteps < max_timesteps:\n",
        "\n",
        "  # If episode is done\n",
        "  if done:\n",
        "\n",
        "    # If we are not at the very beginning, we start the training process of the model\n",
        "    if total_timesteps != 0:\n",
        "      print(f\"Total Timesteps: {total_timesteps} Episode Num: {episode_num} Reward: {episode_reward}\")\n",
        "      policy.train(replay_buffer, episode_timesteps, batch_size, discount, tau, policy_noise, noise_clip, policy_freq)\n",
        "\n",
        "    # We evaluate the episode and we save the policy\n",
        "    if timesteps_since_eval >= eval_freq:\n",
        "      timesteps_since_eval %= eval_freq\n",
        "      evaluations.append(evaluate_policy(policy))\n",
        "      policy.save(file_name, directory=\"./pytorch_models\")\n",
        "      np.save(\"./results/%s\" % (file_name), evaluations)\n",
        "\n",
        "    # When the training step is done, we reset the state of the environment\n",
        "    obs = env.reset()\n",
        "\n",
        "    # Set the Done to False\n",
        "    done = False\n",
        "\n",
        "    # Set rewards and episode timesteps to zero\n",
        "    episode_reward = 0\n",
        "    episode_timesteps = 0\n",
        "    episode_num += 1\n",
        "\n",
        "  # Before 10000 timesteps, we play random actions\n",
        "  if total_timesteps < start_timesteps:\n",
        "    action = env.action_space.sample() # Exploration\n",
        "  else: # After 10000 timesteps, we switch to the model\n",
        "    action = policy.select_action(np.array(obs)) # Exploitation\n",
        "    # If the explore_noise parameter is not 0, we add noise to the action and we clip it\n",
        "    if expl_noise != 0:\n",
        "      action = (action + np.random.normal(0, expl_noise, size=env.action_space.shape[0])).clip(env.action_space.low, env.action_space.high)\n",
        "\n",
        "  # The agent performs the action in the environment, then reaches the next state and receives the reward\n",
        "  new_obs, reward, done, _ = env.step(action)\n",
        "\n",
        "  # We check if the episode is done\n",
        "  done_bool = 0 if episode_timesteps + 1 == env._max_episode_steps else float(done)\n",
        "\n",
        "  # We increase the total reward\n",
        "  episode_reward += reward\n",
        "\n",
        "  # We store the new transition into the Experience reply memory\n",
        "  replay_buffer.add((obs, new_obs, action, reward, done_bool))\n",
        "\n",
        "  # We update the state, the episode timestep, the total timesteps, and the timesteps since the evaluation of the policy\n",
        "  obs = new_obs\n",
        "  episode_timesteps += 1\n",
        "  total_timesteps += 1\n",
        "  timesteps_since_eval += 1\n",
        "\n",
        "# We add the last policy evaluation to our list of evaluations and we save our model\n",
        "evaluations.append(evaluate_policy(policy))\n",
        "if save_models: policy.save(\"%s\" % (file_name), directory=\"./pytorch_models\")\n",
        "np.save(\"./results/%s\" % (file_name), evaluations)\n",
        "\n"
      ],
      "metadata": {
        "colab": {
          "base_uri": "https://localhost:8080/"
        },
        "id": "mveIu2eVU21x",
        "outputId": "92a6bc77-7679-49a7-883c-ad8412673efd"
      },
      "execution_count": null,
      "outputs": [
        {
          "output_type": "stream",
          "name": "stdout",
          "text": [
            "Total Timesteps: 1000 Episode Num: 1 Reward: 514.4501235746966\n"
          ]
        },
        {
          "output_type": "stream",
          "name": "stderr",
          "text": [
            "<ipython-input-6-c1f974efc42d>:58: UserWarning: Using a target size (torch.Size([100, 100])) that is different to the input size (torch.Size([100, 1])). This will likely lead to incorrect results due to broadcasting. Please ensure they have the same size.\n",
            "  critic_loss = F.mse_loss(current_Q1, target_Q) + F.mse_loss(current_Q2, target_Q)\n"
          ]
        },
        {
          "output_type": "stream",
          "name": "stdout",
          "text": [
            "Total Timesteps: 1242 Episode Num: 2 Reward: 118.51042804752649\n",
            "Total Timesteps: 2242 Episode Num: 3 Reward: 476.7937800553202\n",
            "Total Timesteps: 3242 Episode Num: 4 Reward: 509.2301179105158\n",
            "Total Timesteps: 4242 Episode Num: 5 Reward: 505.0347477280715\n",
            "Total Timesteps: 5242 Episode Num: 6 Reward: 460.95903656011495\n",
            "---------------------------------------\n",
            "Average Reward over the Evaluation Step: 21.067685\n",
            "---------------------------------------\n",
            "Total Timesteps: 6161 Episode Num: 7 Reward: 502.1212387917405\n",
            "Total Timesteps: 6359 Episode Num: 8 Reward: 96.94527423135878\n",
            "Total Timesteps: 6518 Episode Num: 9 Reward: 77.86445725471131\n",
            "Total Timesteps: 7518 Episode Num: 10 Reward: 512.6795672101807\n",
            "Total Timesteps: 8518 Episode Num: 11 Reward: 467.71708045839785\n",
            "Total Timesteps: 9157 Episode Num: 12 Reward: 330.39261506138115\n",
            "Total Timesteps: 9177 Episode Num: 13 Reward: 3.5263351028857852\n",
            "Total Timesteps: 10177 Episode Num: 14 Reward: 544.500120543213\n",
            "---------------------------------------\n",
            "Average Reward over the Evaluation Step: 20.351868\n",
            "---------------------------------------\n",
            "Total Timesteps: 11177 Episode Num: 15 Reward: 291.1958048654247\n",
            "Total Timesteps: 12177 Episode Num: 16 Reward: 288.31245064060784\n",
            "Total Timesteps: 13177 Episode Num: 17 Reward: 290.4009178332634\n",
            "Total Timesteps: 14177 Episode Num: 18 Reward: 290.2088127529994\n",
            "Total Timesteps: 15177 Episode Num: 19 Reward: 288.7910843147794\n",
            "---------------------------------------\n",
            "Average Reward over the Evaluation Step: 19.015340\n",
            "---------------------------------------\n",
            "Total Timesteps: 16177 Episode Num: 20 Reward: 98.54350535177772\n",
            "Total Timesteps: 17177 Episode Num: 21 Reward: 191.5842980924414\n",
            "Total Timesteps: 18177 Episode Num: 22 Reward: 289.8663247757034\n",
            "Total Timesteps: 19177 Episode Num: 23 Reward: 187.5108262062563\n",
            "Total Timesteps: 20177 Episode Num: 24 Reward: 292.6873616322291\n",
            "---------------------------------------\n",
            "Average Reward over the Evaluation Step: 25.068459\n",
            "---------------------------------------\n",
            "Total Timesteps: 21177 Episode Num: 25 Reward: 287.91765200898476\n",
            "Total Timesteps: 22177 Episode Num: 26 Reward: 295.75487568895323\n",
            "Total Timesteps: 23177 Episode Num: 27 Reward: 287.0670138645971\n",
            "Total Timesteps: 24177 Episode Num: 28 Reward: 292.09908582821754\n",
            "Total Timesteps: 25177 Episode Num: 29 Reward: 186.73968537334227\n",
            "---------------------------------------\n",
            "Average Reward over the Evaluation Step: 20.339676\n",
            "---------------------------------------\n",
            "Total Timesteps: 26177 Episode Num: 30 Reward: 291.16635684347875\n",
            "Total Timesteps: 27177 Episode Num: 31 Reward: 294.8158423646821\n",
            "Total Timesteps: 28177 Episode Num: 32 Reward: 190.58190814139633\n",
            "Total Timesteps: 29177 Episode Num: 33 Reward: 286.6524305802651\n",
            "Total Timesteps: 30177 Episode Num: 34 Reward: 292.7049116216147\n",
            "---------------------------------------\n",
            "Average Reward over the Evaluation Step: 25.890983\n",
            "---------------------------------------\n",
            "Total Timesteps: 31177 Episode Num: 35 Reward: 281.541988747486\n",
            "Total Timesteps: 32177 Episode Num: 36 Reward: 290.91943065444576\n",
            "Total Timesteps: 33177 Episode Num: 37 Reward: 278.14586656930436\n",
            "Total Timesteps: 34177 Episode Num: 38 Reward: 292.0304271009055\n",
            "Total Timesteps: 35177 Episode Num: 39 Reward: 186.5500636464517\n",
            "---------------------------------------\n",
            "Average Reward over the Evaluation Step: 24.003572\n",
            "---------------------------------------\n",
            "Total Timesteps: 36177 Episode Num: 40 Reward: 287.6892376611085\n",
            "Total Timesteps: 37177 Episode Num: 41 Reward: 289.5689688091489\n",
            "Total Timesteps: 38177 Episode Num: 42 Reward: 293.1680851091841\n",
            "Total Timesteps: 39177 Episode Num: 43 Reward: 289.5060124827754\n",
            "Total Timesteps: 40177 Episode Num: 44 Reward: 291.32626412034756\n"
          ]
        }
      ]
    },
    {
      "cell_type": "markdown",
      "source": [
        "## Inference"
      ],
      "metadata": {
        "id": "8v7BeM3ico7S"
      }
    },
    {
      "cell_type": "code",
      "source": [
        "class Actor(nn.Module):\n",
        "\n",
        "  def __init__(self, state_dim, action_dim, max_action):\n",
        "    super(Actor, self).__init__()\n",
        "    self.layer_1 = nn.Linear(state_dim, 400)\n",
        "    self.layer_2 = nn.Linear(400, 300)\n",
        "    self.layer_3 = nn.Linear(300, action_dim)\n",
        "    self.max_action = max_action\n",
        "\n",
        "  def forward(self, x):\n",
        "    x = F.relu(self.layer_1(x))\n",
        "    x = F.relu(self.layer_2(x))\n",
        "    x = self.max_action * torch.tanh(self.layer_3(x))\n",
        "    return x\n",
        "\n",
        "class Critic(nn.Module):\n",
        "\n",
        "  def __init__(self, state_dim, action_dim):\n",
        "    super(Critic, self).__init__()\n",
        "    # Defining the first Critic neural network\n",
        "    self.layer_1 = nn.Linear(state_dim + action_dim, 400)\n",
        "    self.layer_2 = nn.Linear(400, 300)\n",
        "    self.layer_3 = nn.Linear(300, 1)\n",
        "    # Defining the second Critic neural network\n",
        "    self.layer_4 = nn.Linear(state_dim + action_dim, 400)\n",
        "    self.layer_5 = nn.Linear(400, 300)\n",
        "    self.layer_6 = nn.Linear(300, 1)\n",
        "\n",
        "  def forward(self, x, u):\n",
        "    xu = torch.cat([x, u], 1)\n",
        "    # Forward-Propagation on the first Critic Neural Network\n",
        "    x1 = F.relu(self.layer_1(xu))\n",
        "    x1 = F.relu(self.layer_2(x1))\n",
        "    x1 = self.layer_3(x1)\n",
        "    # Forward-Propagation on the second Critic Neural Network\n",
        "    x2 = F.relu(self.layer_4(xu))\n",
        "    x2 = F.relu(self.layer_5(x2))\n",
        "    x2 = self.layer_6(x2)\n",
        "    return x1, x2\n",
        "\n",
        "  def Q1(self, x, u):\n",
        "    xu = torch.cat([x, u], 1)\n",
        "    x1 = F.relu(self.layer_1(xu))\n",
        "    x1 = F.relu(self.layer_2(x1))\n",
        "    x1 = self.layer_3(x1)\n",
        "    return x1\n",
        "\n",
        "# Selecting the device (CPU or GPU)\n",
        "device = torch.device(\"cuda\" if torch.cuda.is_available() else \"cpu\")\n",
        "\n",
        "# Building the whole Training Process into a class\n",
        "\n",
        "class TD3(object):\n",
        "\n",
        "  def __init__(self, state_dim, action_dim, max_action):\n",
        "    self.actor = Actor(state_dim, action_dim, max_action).to(device)\n",
        "    self.actor_target = Actor(state_dim, action_dim, max_action).to(device)\n",
        "    self.actor_target.load_state_dict(self.actor.state_dict())\n",
        "    self.actor_optimizer = torch.optim.Adam(self.actor.parameters())\n",
        "    self.critic = Critic(state_dim, action_dim).to(device)\n",
        "    self.critic_target = Critic(state_dim, action_dim).to(device)\n",
        "    self.critic_target.load_state_dict(self.critic.state_dict())\n",
        "    self.critic_optimizer = torch.optim.Adam(self.critic.parameters())\n",
        "    self.max_action = max_action\n",
        "\n",
        "  def select_action(self, state):\n",
        "    state = torch.Tensor(state.reshape(1, -1)).to(device)\n",
        "    return self.actor(state).cpu().data.numpy().flatten()\n",
        "\n",
        "  def train(self, replay_buffer, iterations, batch_size=100, discount=0.99, tau=0.005, policy_noise=0.2, noise_clip=0.5, policy_freq=2):\n",
        "\n",
        "    for it in range(iterations):\n",
        "\n",
        "      # Step 4: We sample a batch of transitions (s, s’, a, r) from the memory\n",
        "      batch_states, batch_next_states, batch_actions, batch_rewards, batch_dones = replay_buffer.sample(batch_size)\n",
        "      state = torch.Tensor(batch_states).to(device)\n",
        "      next_state = torch.Tensor(batch_next_states).to(device)\n",
        "      action = torch.Tensor(batch_actions).to(device)\n",
        "      reward = torch.Tensor(batch_rewards).to(device)\n",
        "      done = torch.Tensor(batch_dones).to(device)\n",
        "\n",
        "      # Step 5: From the next state s’, the Actor target plays the next action a’\n",
        "      next_action = self.actor_target(next_state)\n",
        "\n",
        "      # Step 6: We add Gaussian noise to this next action a’ and we clamp it in a range of values supported by the environment\n",
        "      noise = torch.Tensor(batch_actions).data.normal_(0, policy_noise).to(device)\n",
        "      noise = noise.clamp(-noise_clip, noise_clip)\n",
        "      next_action = (next_action + noise).clamp(-self.max_action, self.max_action)\n",
        "\n",
        "      # Step 7: The two Critic targets take each the couple (s’, a’) as input and return two Q-values Qt1(s’,a’) and Qt2(s’,a’) as outputs\n",
        "      target_Q1, target_Q2 = self.critic_target(next_state, next_action)\n",
        "\n",
        "      # Step 8: We keep the minimum of these two Q-values: min(Qt1, Qt2)\n",
        "      target_Q = torch.min(target_Q1, target_Q2)\n",
        "\n",
        "      # Step 9: We get the final target of the two Critic models, which is: Qt = r + γ * min(Qt1, Qt2), where γ is the discount factor\n",
        "      target_Q = reward + ((1 - done) * discount * target_Q).detach()\n",
        "\n",
        "      # Step 10: The two Critic models take each the couple (s, a) as input and return two Q-values Q1(s,a) and Q2(s,a) as outputs\n",
        "      current_Q1, current_Q2 = self.critic(state, action)\n",
        "\n",
        "      # Step 11: We compute the loss coming from the two Critic models: Critic Loss = MSE_Loss(Q1(s,a), Qt) + MSE_Loss(Q2(s,a), Qt)\n",
        "      critic_loss = F.mse_loss(current_Q1, target_Q) + F.mse_loss(current_Q2, target_Q)\n",
        "\n",
        "      # Step 12: We backpropagate this Critic loss and update the parameters of the two Critic models with a SGD optimizer\n",
        "      self.critic_optimizer.zero_grad()\n",
        "      critic_loss.backward()\n",
        "      self.critic_optimizer.step()\n",
        "\n",
        "      # Step 13: Once every two iterations, we update our Actor model by performing gradient ascent on the output of the first Critic model\n",
        "      if it % policy_freq == 0:\n",
        "        actor_loss = -self.critic.Q1(state, self.actor(state)).mean()\n",
        "        self.actor_optimizer.zero_grad()\n",
        "        actor_loss.backward()\n",
        "        self.actor_optimizer.step()\n",
        "\n",
        "        # Step 14: Still once every two iterations, we update the weights of the Actor target by polyak averaging\n",
        "        for param, target_param in zip(self.critic.parameters(), self.critic_target.parameters()):\n",
        "          target_param.data.copy_(tau * param.data + (1 - tau) * target_param.data)\n",
        "\n",
        "        # Step 15: Still once every two iterations, we update the weights of the Critic target by polyak averaging\n",
        "        for param, target_param in zip(self.actor.parameters(), self.actor_target.parameters()):\n",
        "          target_param.data.copy_(tau * param.data + (1 - tau) * target_param.data)\n",
        "\n",
        "  # Making a save method to save a trained model\n",
        "  def save(self, filename, directory):\n",
        "    torch.save(self.actor.state_dict(), '%s/%s_actor.pth' % (directory, filename))\n",
        "    torch.save(self.critic.state_dict(), '%s/%s_critic.pth' % (directory, filename))\n",
        "\n",
        "  # Making a load method to load a pre-trained model\n",
        "  def load(self, filename, directory):\n",
        "    self.actor.load_state_dict(torch.load('%s/%s_actor.pth' % (directory, filename)))\n",
        "    self.critic.load_state_dict(torch.load('%s/%s_critic.pth' % (directory, filename)))\n",
        "\n",
        "def evaluate_policy(policy, eval_episodes=10):\n",
        "  avg_reward = 0.\n",
        "  for _ in range(eval_episodes):\n",
        "    obs = env.reset()\n",
        "    done = False\n",
        "    while not done:\n",
        "      action = policy.select_action(np.array(obs))\n",
        "      obs, reward, done, _ = env.step(action)\n",
        "      avg_reward += reward\n",
        "  avg_reward /= eval_episodes\n",
        "  print (\"---------------------------------------\")\n",
        "  print (\"Average Reward over the Evaluation Step: %f\" % (avg_reward))\n",
        "  print (\"---------------------------------------\")\n",
        "  return avg_reward\n",
        "\n",
        "env_name = \"AntBulletEnv-v0\"\n",
        "seed = 0\n",
        "\n",
        "file_name = \"%s_%s_%s\" % (\"TD3\", env_name, str(seed))\n",
        "print (\"---------------------------------------\")\n",
        "print (\"Settings: %s\" % (file_name))\n",
        "print (\"---------------------------------------\")\n",
        "\n",
        "\n",
        "eval_episodes = 10\n",
        "save_env_vid = True\n",
        "env = gym.make(env_name)\n",
        "max_episode_steps = env._max_episode_steps\n",
        "if save_env_vid:\n",
        "  env = wrappers.Monitor(env, monitor_dir, force = True)\n",
        "  env.reset()\n",
        "env.seed(seed)\n",
        "torch.manual_seed(seed)\n",
        "np.random.seed(seed)\n",
        "state_dim = env.observation_space.shape[0]\n",
        "action_dim = env.action_space.shape[0]\n",
        "max_action = float(env.action_space.high[0])\n",
        "\n",
        "# Load trained model from memory\n",
        "policy = TD3(state_dim, action_dim, max_action)\n",
        "policy.load(file_name, './pytorch_models/')\n",
        "\n",
        "# Evaluate\n",
        "_ = evaluate_policy(policy, eval_episodes=eval_episodes)"
      ],
      "metadata": {
        "id": "tmvZmXD9cqM8"
      },
      "execution_count": null,
      "outputs": []
    }
  ]
}